{
 "cells": [
  {
   "cell_type": "code",
   "execution_count": 1,
   "metadata": {},
   "outputs": [],
   "source": [
    "### Setting the environment\n",
    "import pandas as pd\n",
    "import os\n",
    "import datetime as dt\n",
    "import requests\n",
    "from textwrap import wrap\n"
   ]
  },
  {
   "cell_type": "code",
   "execution_count": 2,
   "metadata": {},
   "outputs": [],
   "source": [
    "data = pd.read_csv('../data/merged_output.csv')"
   ]
  },
  {
   "cell_type": "code",
   "execution_count": 3,
   "metadata": {},
   "outputs": [
    {
     "data": {
      "text/plain": [
       "Planning / Zoning           1195\n",
       "Health and Social Care       751\n",
       "Elections / Politics         434\n",
       "Education                    425\n",
       "Economy                      411\n",
       "Transportation               378\n",
       "Uncategorised                377\n",
       "Environment                  350\n",
       "Housing and Estates          228\n",
       "Arts / Culture / History     111\n",
       "Public Safety                 85\n",
       "Budget / Finance              46\n",
       "Food                          30\n",
       "Parks / Recreation            20\n",
       "Law and Licensing              9\n",
       "Tourism                        9\n",
       "dtype: int64"
      ]
     },
     "execution_count": 3,
     "metadata": {},
     "output_type": "execute_result"
    }
   ],
   "source": [
    "temp = data['ODSCategories']\n",
    "fli=[]\n",
    "for row in temp:\n",
    "    li = [word for word in row.split(';')]\n",
    "    fli = fli + li\n",
    "\n",
    "pd.Series(fli).value_counts()"
   ]
  },
  {
   "cell_type": "code",
   "execution_count": 9,
   "metadata": {},
   "outputs": [],
   "source": [
    "temp = data[data['ODSCategories']=='Uncategorised']['CombinedTags']\n",
    "fli=[]\n",
    "for row in temp:\n",
    "    li = [word for word in str(row).split(';')]\n",
    "    fli = fli + li\n",
    "\n",
    "pd.Series(fli).value_counts().to_csv('uncategorised_tags.txt', sep='\\t', header=True)\n",
    "print('printed to uncategorised_tags.txt')\n",
    "\n"
   ]
  }
 ],
 "metadata": {
  "interpreter": {
   "hash": "1ee6f41ca0b04562f44b3570d0286caa36de2d11d630eeae834a5e6397464d02"
  },
  "kernelspec": {
   "display_name": "Python 3.9.7 ('ods')",
   "language": "python",
   "name": "python3"
  },
  "language_info": {
   "codemirror_mode": {
    "name": "ipython",
    "version": 3
   },
   "file_extension": ".py",
   "mimetype": "text/x-python",
   "name": "python",
   "nbconvert_exporter": "python",
   "pygments_lexer": "ipython3",
   "version": "3.9.7"
  },
  "orig_nbformat": 4
 },
 "nbformat": 4,
 "nbformat_minor": 2
}
