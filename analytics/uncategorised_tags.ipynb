{
 "cells": [
  {
   "cell_type": "code",
   "execution_count": 1,
   "metadata": {},
   "outputs": [],
   "source": [
    "### Setting the environment\n",
    "import pandas as pd\n",
    "import os\n",
    "\n",
    "import sys\n",
    "sys.path.append( '../' )\n",
    "import merge_data as md"
   ]
  },
  {
   "cell_type": "code",
   "execution_count": 2,
   "metadata": {},
   "outputs": [
    {
     "data": {
      "text/plain": [
       "'/Users/ian/development/the_od_bods'"
      ]
     },
     "execution_count": 2,
     "metadata": {},
     "output_type": "execute_result"
    }
   ],
   "source": [
    "os.chdir('../')\n",
    "os.getcwd()"
   ]
  },
  {
   "cell_type": "code",
   "execution_count": 3,
   "metadata": {},
   "outputs": [
    {
     "name": "stdout",
     "output_type": "stream",
     "text": [
      "3274 rows loaded\n"
     ]
    }
   ],
   "source": [
    "### calls merge_data.py to combine data from the 4 sources (arcgis, ckan, usmart, google sheets)\n",
    "data = md.merge_data()\n",
    "print (str(len(data)) + ' rows loaded')"
   ]
  },
  {
   "cell_type": "code",
   "execution_count": 4,
   "metadata": {},
   "outputs": [
    {
     "data": {
      "text/plain": [
       "Planning and Development    1222\n",
       "Health and Social Care       847\n",
       "Environment                  464\n",
       "Elections / Politics         459\n",
       "Business and Economy         419\n",
       "Education                    395\n",
       "Council and Government       333\n",
       "Transportation               252\n",
       "Housing and Estates          237\n",
       "Uncategorised                125\n",
       "Arts / Culture / History     110\n",
       "Public Safety                 85\n",
       "Budget / Finance              69\n",
       "Sport and Leisure             46\n",
       "Food                          30\n",
       "Parks / Recreation            20\n",
       "Tourism                       12\n",
       "Law and Licensing              9\n",
       "dtype: int64"
      ]
     },
     "execution_count": 4,
     "metadata": {},
     "output_type": "execute_result"
    }
   ],
   "source": [
    "temp = data['ODSCategories']\n",
    "fli=[]\n",
    "for row in temp:\n",
    "    li = [word for word in row.split(';')]\n",
    "    fli = fli + li\n",
    "\n",
    "pd.Series(fli).value_counts()"
   ]
  },
  {
   "cell_type": "code",
   "execution_count": 5,
   "metadata": {},
   "outputs": [
    {
     "name": "stdout",
     "output_type": "stream",
     "text": [
      "printed to uncategorised_tags.txt\n"
     ]
    }
   ],
   "source": [
    "temp = data[data['ODSCategories']=='Uncategorised']['CombinedTags']\n",
    "fli=[]\n",
    "for row in temp:\n",
    "    li = [word for word in str(row).split(';')]\n",
    "    fli = fli + li\n",
    "\n",
    "pd.Series(fli).value_counts().to_csv('uncategorised_tags.txt', sep='\\t', header=True)\n",
    "print('printed to uncategorised_tags.txt')\n",
    "\n"
   ]
  },
  {
   "cell_type": "code",
   "execution_count": null,
   "metadata": {},
   "outputs": [],
   "source": []
  }
 ],
 "metadata": {
  "interpreter": {
   "hash": "1ee6f41ca0b04562f44b3570d0286caa36de2d11d630eeae834a5e6397464d02"
  },
  "kernelspec": {
   "display_name": "Python 3",
   "language": "python",
   "name": "python3"
  },
  "language_info": {
   "codemirror_mode": {
    "name": "ipython",
    "version": 3
   },
   "file_extension": ".py",
   "mimetype": "text/x-python",
   "name": "python",
   "nbconvert_exporter": "python",
   "pygments_lexer": "ipython3",
   "version": "3.7.4"
  }
 },
 "nbformat": 4,
 "nbformat_minor": 2
}
