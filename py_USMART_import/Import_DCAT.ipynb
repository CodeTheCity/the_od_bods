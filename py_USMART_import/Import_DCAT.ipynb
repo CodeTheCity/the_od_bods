{
 "cells": [
  {
   "cell_type": "code",
   "execution_count": 18,
   "id": "05678c55",
   "metadata": {},
   "outputs": [],
   "source": [
    "import json\n",
    "import requests\n",
    "import pprint"
   ]
  },
  {
   "cell_type": "code",
   "execution_count": 19,
   "id": "13b9c455",
   "metadata": {},
   "outputs": [],
   "source": [
    "def get_data (owner, site_url):\n",
    "    url = requests.get(site_url)\n",
    "    data = json.loads(url.text)\n",
    "    datasets = data[\"dataset\"]\n",
    "    #print(\"Number of datasets: \", str( len(datasets)))\n",
    "    \n",
    "    filename = \"../data/USMART/\"+ owner.replace(\" \", \"\") + \".csv\"\n",
    "    with open (filename, \"w\") as file:\n",
    "        file.write ('Title,Owner,PageURL,AssetURL,DateCreated,DateUpdated,FileSize,FileSizeUnit,FileType,NumRecords,OriginalTags,ManualTags,License,Description' + \"\\n\")\n",
    "    \n",
    "    for dataset in datasets:\n",
    "        Title = dataset[\"title\"]\n",
    "        Owner = owner\n",
    "        PageURL = dataset[\"landingPage\"]\n",
    "        #pprint.pprint(dataset)\n",
    "        filetypes = dict()\n",
    "        for dist in dataset[\"distribution\"]:\n",
    "                if \"/\" in dist[\"mediaType\"]:\n",
    "                    filetypes [dist[\"mediaType\"].split(\"/\")[1]] = dist[\"accessURL\"]\n",
    "                else:\n",
    "                    filetypes [dist[\"mediaType\"]] = dist[\"accessURL\"]\n",
    "       \n",
    "        DateCreated = dataset[\"createdAt\"]\n",
    "        DateUpdated = dataset[\"modified\"]\n",
    "        Description = '\"' + dataset[\"description\"] + '\"'\n",
    "        if dataset[\"licence\"] == \"http://www.nationalarchives.gov.uk/doc/open-government-licence/version/3/\":\n",
    "            Licence = \"OGL3\"\n",
    "        else:\n",
    "            Licence = dataset[\"licence\"]\n",
    "        OriginalTags = []\n",
    "        for theme in dataset['theme']:\n",
    "            OriginalTags.append (theme)\n",
    "        ManualTags = []\n",
    "        if 'keyword' in dataset:\n",
    "            for kw in dataset['keyword']:\n",
    "                ManualTags.append (kw)\n",
    "        else:\n",
    "            ManualTags.append (\" \")\n",
    "        for item in filetypes:\n",
    "            writeline = '\"' + Title + '\"'+ \",\" + Owner + \",\" + PageURL + \",\" + filetypes[item]+ \",\" + DateCreated + \",\" + DateUpdated + \",,,\"+ item + \",,\" + '\"'+', '.join(OriginalTags) +'\"'+ \",\" + '\"'+', '.join(ManualTags) +'\"' + \",\"+ Licence + \",\" + Description + \"\\n\"\n",
    "            with open (filename, \"a\") as file:\n",
    "                file.write (writeline)\n",
    "            \n",
    "       "
   ]
  },
  {
   "cell_type": "code",
   "execution_count": 20,
   "id": "81ea4da8",
   "metadata": {},
   "outputs": [],
   "source": [
    "owned_by = \"Dumfries and Galloway Council\"\n",
    "target_url = \"https://discovery.usmart.io/org/9762f781-5c04-4759-a70b-afc585af1d12/dcat/data.json\"\n",
    "get_data (owned_by, target_url)"
   ]
  },
  {
   "cell_type": "code",
   "execution_count": 21,
   "id": "53bef352",
   "metadata": {},
   "outputs": [],
   "source": [
    "owned_by = \"Cycling Scotland\"\n",
    "target_url = \"https://discovery.usmart.io/org/d1b773fa-d2bd-4830-b399-ecfd18e832f3/dcat/data.json\"\n",
    "get_data (owned_by, target_url)"
   ]
  },
  {
   "cell_type": "code",
   "execution_count": 22,
   "id": "8549798c",
   "metadata": {},
   "outputs": [],
   "source": [
    "#pprint.pprint(dataset)"
   ]
  }
 ],
 "metadata": {
  "kernelspec": {
   "display_name": "Python 3",
   "language": "python",
   "name": "python3"
  },
  "language_info": {
   "codemirror_mode": {
    "name": "ipython",
    "version": 3
   },
   "file_extension": ".py",
   "mimetype": "text/x-python",
   "name": "python",
   "nbconvert_exporter": "python",
   "pygments_lexer": "ipython3",
   "version": "3.9.5"
  }
 },
 "nbformat": 4,
 "nbformat_minor": 5
}
