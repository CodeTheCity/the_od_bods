{
 "cells": [
  {
   "cell_type": "code",
   "execution_count": 1,
   "id": "05678c55",
   "metadata": {},
   "outputs": [],
   "source": [
    "import json\n",
    "import requests\n",
    "import pprint"
   ]
  },
  {
   "cell_type": "code",
   "execution_count": 15,
   "id": "13b9c455",
   "metadata": {},
   "outputs": [],
   "source": [
    "def get_data (owner, site_url):\n",
    "    url = requests.get(site_url)\n",
    "    data = json.loads(url.text)\n",
    "    datasets = data[\"dataset\"]\n",
    "    #print(\"Number of datasets: \", str( len(datasets)))\n",
    "    \n",
    "    filename = \"../data/USMART/\"+ owner.replace(\" \", \"\") + \".csv\"\n",
    "    with open (filename, \"w\") as file:\n",
    "        file.write ('Title,Owner,PageURL,AssetURL,DateCreated,DateUpdated,FileSize,FileSizeUnit,FileType,NumRecords,OriginalTags,ManualTags,License,Description' + \"\\n\")\n",
    "    \n",
    "    for dataset in datasets:\n",
    "        Title = dataset[\"description\"]\n",
    "        Owner = owner\n",
    "        PageURL = dataset[\"landingPage\"]\n",
    "        \n",
    "        filetypes = dict()\n",
    "        for dist in dataset[\"distribution\"]:\n",
    "                if \"/\" in dist[\"mediaType\"]:\n",
    "                    filetypes [dist[\"mediaType\"].split(\"/\")[1]] = dist[\"accessURL\"]\n",
    "                else:\n",
    "                    filetypes [dist[\"mediaType\"]] = dist[\"accessURL\"]\n",
    "       \n",
    "        DateCreated = dataset[\"createdAt\"]\n",
    "        DateUpdated = dataset[\"modified\"]\n",
    "        if dataset[\"licence\"] == \"http://www.nationalarchives.gov.uk/doc/open-government-licence/version/3/\":\n",
    "            Licence = \"OGL3\"\n",
    "        else:\n",
    "            Licence = dataset[\"licence\"]\n",
    "        OriginalTags = []\n",
    "        for theme in dataset['theme']:\n",
    "            OriginalTags.append (theme)\n",
    "        ManualTags = []\n",
    "        if 'keyword' in dataset:\n",
    "            for kw in dataset['keyword']:\n",
    "                ManualTags.append (kw)\n",
    "        else:\n",
    "            ManualTags.append (\" \")\n",
    "        for item in filetypes:\n",
    "            writeline = '\"' + Title + '\"'+ \",\" + Owner + \",\" + PageURL + \",\" + filetypes[item]+ \",\" + DateCreated + \",\" + DateUpdated + \",,,\"+ item + \",,\" + '\"'+', '.join(OriginalTags) +'\"'+ \",\" + '\"'+', '.join(ManualTags) +'\"' + \",\"+ Licence + \",\\n\"\n",
    "            with open (filename, \"a\") as file:\n",
    "                file.write (writeline)\n",
    "            \n",
    "       "
   ]
  },
  {
   "cell_type": "code",
   "execution_count": 16,
   "id": "81ea4da8",
   "metadata": {},
   "outputs": [],
   "source": [
    "owned_by = \"Dumfries and Galloway Council\"\n",
    "target_url = \"https://discovery.usmart.io/org/9762f781-5c04-4759-a70b-afc585af1d12/dcat/data.json\"\n",
    "get_data (owned_by, target_url)"
   ]
  },
  {
   "cell_type": "code",
   "execution_count": 17,
   "id": "53bef352",
   "metadata": {},
   "outputs": [],
   "source": [
    "owned_by = \"Cycling Scotland\"\n",
    "target_url = \"https://discovery.usmart.io/org/d1b773fa-d2bd-4830-b399-ecfd18e832f3/dcat/data.json\"\n",
    "get_data (owned_by, target_url)"
   ]
  },
  {
   "cell_type": "code",
   "execution_count": 148,
   "id": "8549798c",
   "metadata": {},
   "outputs": [
    {
     "name": "stdout",
     "output_type": "stream",
     "text": [
      "{'@type': 'dcat:Dataset',\n",
      " 'accessLevel': 'public',\n",
      " 'accrualPeriodicity': None,\n",
      " 'boundingBoxEast': None,\n",
      " 'boundingBoxNorth': None,\n",
      " 'boundingBoxSouth': None,\n",
      " 'boundingBoxWest': None,\n",
      " 'conformsTo': None,\n",
      " 'contactPoint': {'@type': 'vcard:Contact',\n",
      "                  'email': 'adam.lawrie@dumgal.gov.uk',\n",
      "                  'fn': 'Adam Lawrie'},\n",
      " 'coverageArea': None,\n",
      " 'createdAt': '2018-01-23T14:13:15.167Z',\n",
      " 'description': 'The Number of Non-Domestic Properties by Category Code and '\n",
      "                'Total Rateable Value in D&G , plus All-Scotland totals.',\n",
      " 'distribution': [{'@type': 'dcat:Distribution',\n",
      "                   'accessURL': 'https://data.usmart.io/org/9762f781-5c04-4759-a70b-afc585af1d12/resource?resourceGUID=0d4286b2-c9c6-43a3-a87c-a1cba1ac600c',\n",
      "                   'mediaType': 'text/csv',\n",
      "                   'title': 'vr_class3.csv'},\n",
      "                  {'@type': 'dcat:Distribution',\n",
      "                   'accessURL': 'https://api.usmart.io/org/9762f781-5c04-4759-a70b-afc585af1d12/596aa399-760c-4dc5-a76d-58ecd43fc7e6/1/urql',\n",
      "                   'mediaType': 'application/json',\n",
      "                   'title': 'API'}],\n",
      " 'identifier': 'https://data.usmart.io/org/9762f781-5c04-4759-a70b-afc585af1d12/dataset:viewDiscovery?datasetGUID=c72bf08c-c809-48e0-9e2c-e43f363f5a1b',\n",
      " 'issueDate': None,\n",
      " 'issued': '2018-01-23T14:13:15.167Z',\n",
      " 'landingPage': 'https://usmart.io/org/dumgal/discovery/discovery-view-detail/c72bf08c-c809-48e0-9e2c-e43f363f5a1b',\n",
      " 'language': None,\n",
      " 'lastModificationDate': None,\n",
      " 'licence': 'http://www.nationalarchives.gov.uk/doc/open-government-licence/version/3/',\n",
      " 'lineage': None,\n",
      " 'modified': '2018-03-01T15:36:04.668Z',\n",
      " 'notes': None,\n",
      " 'publisher': {'@type': 'org:Organization',\n",
      "               'name': 'https://usmart.io/org/dumgal'},\n",
      " 'spatialReferenceSystem': None,\n",
      " 'spatialResolution': None,\n",
      " 'status': 'Published',\n",
      " 'targetDate': None,\n",
      " 'temporalCoverageEnd': None,\n",
      " 'temporalCoverageStart': None,\n",
      " 'temporalNotes': None,\n",
      " 'theme': ['Built environment'],\n",
      " 'title': 'Valuation by industry',\n",
      " 'verticalExtent': None}\n"
     ]
    }
   ],
   "source": [
    "pprint.pprint(dataset)"
   ]
  },
  {
   "cell_type": "code",
   "execution_count": null,
   "id": "f643806f",
   "metadata": {},
   "outputs": [],
   "source": []
  }
 ],
 "metadata": {
  "kernelspec": {
   "display_name": "Python 3",
   "language": "python",
   "name": "python3"
  },
  "language_info": {
   "codemirror_mode": {
    "name": "ipython",
    "version": 3
   },
   "file_extension": ".py",
   "mimetype": "text/x-python",
   "name": "python",
   "nbconvert_exporter": "python",
   "pygments_lexer": "ipython3",
   "version": "3.9.5"
  }
 },
 "nbformat": 4,
 "nbformat_minor": 5
}
